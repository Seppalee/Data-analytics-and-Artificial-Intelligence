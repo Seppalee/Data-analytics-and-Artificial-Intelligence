{
 "cells": [
  {
   "cell_type": "markdown",
   "source": [
    "## Exercise 10 - Text classification with Tensorflow\r\n",
    "- In this exercise you utilize the *DisneylandReviews.csv* located in data_files directory.\r\n",
    "- This exercise has the following phases:\r\n",
    "    - Load the data from csv file.\r\n",
    "    - Create directory structure including sample files from the data you loaded.\r\n",
    "    - Train your neural network with the extracted data.\r\n",
    "    - Validate the operation of your trained model.\r\n",
    "- Use [this example](https://hantt.pages.labranet.jamk.fi/ttc2050-material/material/10-ai-text-classification-tensorflow/) as a reference."
   ],
   "metadata": {}
  },
  {
   "cell_type": "markdown",
   "source": [
    "1 Import all the necessary libraries listed in our Tensorflow example. Read the csv file DisneylandReviews.csv into a data structure of your choice (list, dict, json...)."
   ],
   "metadata": {}
  },
  {
   "cell_type": "markdown",
   "source": [
    "2 Create the directory structure presented below either by using python's os library or manually. So there should be *disney_review_data* directory which has two subdirectories: *train* and *test*. Both of those directories should then have two subdirectories: *pos* and *neg*.\r\n",
    "\r\n",
    "```\r\n",
    "disney_review_data\r\n",
    "    |\r\n",
    "    |----train\r\n",
    "    |      |----pos\r\n",
    "    |      |----neg\r\n",
    "    |\r\n",
    "    |----test\r\n",
    "           |----pos\r\n",
    "           |----neg\r\n",
    "```"
   ],
   "metadata": {}
  },
  {
   "cell_type": "markdown",
   "source": [
    "3 Loop through your saved data and save it as text files (.txt) into the directory structure. First 80 % of the data should go into *pos* and *neg* subdirectories under the *train* directory with the following conditions:\r\n",
    "- pos = rating is 4 or more\r\n",
    "- neg = rating is 2 or less\r\n",
    "\r\n",
    "The last 20 % should go into the *pos* and *neg* subdirectories under the *test* directory using the same conditions as above. Rating value of 3 is considered to be neutral and should not be processed."
   ],
   "metadata": {}
  },
  {
   "cell_type": "markdown",
   "source": [
    "4 Use material page linked above as a reference and implement the text classification example to your notebook. Now modify it so that your Disneyland review data will be read from the directory structure you created earlier. Run the notebook and ensure that no errors are present."
   ],
   "metadata": {}
  },
  {
   "cell_type": "markdown",
   "source": [
    "5 Create some test data to verify that your model works and present the prediction results here."
   ],
   "metadata": {}
  }
 ],
 "metadata": {
  "orig_nbformat": 4,
  "language_info": {
   "name": "python"
  }
 },
 "nbformat": 4,
 "nbformat_minor": 2
}