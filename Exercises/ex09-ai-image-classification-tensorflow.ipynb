{
 "cells": [
  {
   "cell_type": "markdown",
   "source": [
    "## Exercise 9 - Image classification with Tensorflow\r\n",
    "- In this exercise you utilize CIFAR-100 dataset with Tensorflow for image classification.\r\n",
    "- Use [this example](https://hantt.pages.labranet.jamk.fi/ttc2050-material/material/09-ai-image-classification-tensorflow/) as a reference.\r\n",
    "- Check the dataset description [here](https://www.cs.toronto.edu/~kriz/cifar.html)."
   ],
   "metadata": {}
  },
  {
   "cell_type": "markdown",
   "source": [
    "1 Use the example linked above as the base for your code and load cifar-100 dataset with fine label mode using the following lines:"
   ],
   "metadata": {}
  },
  {
   "cell_type": "code",
   "execution_count": null,
   "source": [
    "from keras.datasets import cifar100\r\n",
    "(x_train, y_train), (x_test, y_test) = cifar100.load_data(label_mode=\"fine\")"
   ],
   "outputs": [],
   "metadata": {}
  },
  {
   "cell_type": "markdown",
   "source": [
    "2 Do the following changes compared to Cifar-10 example:\r\n",
    "\r\n",
    "- Change the loss parameter for the models compile method to be *sparse_categorical_crossentropy*.\r\n",
    "- The last layer neutron count must be 100 instead of 10 (10 was used in the example).\r\n",
    "- List called *list_index* inside the predict_image function should contain integers from 0 to 99.\r\n",
    "- Create a list called *classification* and add classes as elements to this list (100 classes). The list of classes can be found from the dataset description link above. **Important**: These classes should be in the list alphabetically!\r\n",
    "\r\n",
    "Now run the whole notebook and present the model accuracy and model loss visualizations here as a screenshot."
   ],
   "metadata": {}
  },
  {
   "cell_type": "markdown",
   "source": [
    "3 Check the classes list and find three or more example images from the Internet presenting some of those classes (for example *keyboard*, *shark*, *apple*...). Present five highest predictions to images you have chosen."
   ],
   "metadata": {}
  },
  {
   "cell_type": "markdown",
   "source": [
    "4 Try to improve the accuracy of your model's predictions by changing the parameters (batch_size, epochs and validation_split). You may also change the structure of your convolutional neural network by adding / removing layers and adjusting the amount of neurons and options present in each layer."
   ],
   "metadata": {}
  }
 ],
 "metadata": {
  "orig_nbformat": 4,
  "language_info": {
   "name": "python"
  }
 },
 "nbformat": 4,
 "nbformat_minor": 2
}