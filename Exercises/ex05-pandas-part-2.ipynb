{
 "cells": [
  {
   "cell_type": "markdown",
   "metadata": {},
   "source": [
    "## Exercise 5 - Pandas part 2\r\n",
    "- Use *gamedata.json* file from data_files directory in this exercise. **Important:** Edit the original DataFrame throughout this whole notebook!"
   ]
  },
  {
   "cell_type": "markdown",
   "metadata": {},
   "source": [
    "1 Read the first 10 rows from the gamedata.json file into the DataFrame. Then read the last five rows from the same file into another DataFrame. Combine these two into one DataFrame."
   ]
  },
  {
   "cell_type": "markdown",
   "metadata": {},
   "source": [
    "2 Set *steamRatingPercent* to NaN for all rows having *steamRatingCount* below 1000."
   ]
  },
  {
   "cell_type": "markdown",
   "metadata": {},
   "source": [
    "3 Fill all NaN values in *SteamRatingPercent* column by increasing the *metacriticScore* from the same row with 7 %."
   ]
  },
  {
   "cell_type": "markdown",
   "metadata": {},
   "source": [
    "4 Group the data by *steamRatingText* column so that averages of the following columns will be calculated for each text value: *steamRatingPercent*, *metacriticScore*, *normalPrice* and *salePrice*. Do not show any other columns in the resulting DataFrame."
   ]
  },
  {
   "cell_type": "markdown",
   "metadata": {},
   "source": [
    "5 Load the original game_data.json file content into a new DataFrame and then filter the data with the same manner as in previous task. Combine these two DataFrames together and change the column names of the original to contain text *ORIGINAL*. "
   ]
  }
 ],
 "metadata": {
  "kernelspec": {
   "display_name": "Python 3",
   "language": "python",
   "name": "python3"
  },
  "language_info": {
   "codemirror_mode": {
    "name": "ipython",
    "version": 3
   },
   "file_extension": ".py",
   "mimetype": "text/x-python",
   "name": "python",
   "nbconvert_exporter": "python",
   "pygments_lexer": "ipython3",
   "version": "3.8.8"
  }
 },
 "nbformat": 4,
 "nbformat_minor": 4
}
