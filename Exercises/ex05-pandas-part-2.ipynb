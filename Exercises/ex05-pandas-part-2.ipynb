{
 "cells": [
  {
   "cell_type": "markdown",
   "metadata": {},
   "source": [
    "## Exercise 5 - Pandas part 2\r\n",
    "- Use *gamedata.json* file from data_files directory in this exercise. **Important:** Edit the original DataFrame throughout this whole notebook!"
   ]
  },
  {
   "cell_type": "markdown",
   "metadata": {},
   "source": [
    "1 Read the first 10 rows from the gamedata.json file into the DataFrame. Then read the last five rows from the same file into another DataFrame. Combine these two into one DataFrame."
   ]
  },
  {
   "cell_type": "code",
   "execution_count": 50,
   "metadata": {
    "tags": []
   },
   "outputs": [],
   "source": [
    "import pandas as pd\n",
    "import numpy as np"
   ]
  },
  {
   "cell_type": "code",
   "execution_count": 51,
   "metadata": {
    "tags": []
   },
   "outputs": [],
   "source": [
    "first_ten = pd.read_json(\"data_files/gamedata.json\").head(10)\n",
    "last_five = pd.read_json(\"data_files/gamedata.json\").tail(5)\n",
    "\n",
    "gamedata = pd.concat([first_ten,last_five])\n",
    "gamedata.reset_index(inplace=True,drop=True)"
   ]
  },
  {
   "cell_type": "markdown",
   "metadata": {},
   "source": [
    "2 Set *steamRatingPercent* to NaN for all rows having *steamRatingCount* below 1000."
   ]
  },
  {
   "cell_type": "code",
   "execution_count": 52,
   "metadata": {
    "tags": []
   },
   "outputs": [],
   "source": [
    "gamedata[\"steamRatingPercent\"].mask(gamedata[\"steamRatingCount\"] < 1000, inplace=True)"
   ]
  },
  {
   "cell_type": "markdown",
   "metadata": {
    "tags": []
   },
   "source": [
    "3 Fill all NaN values in *SteamRatingPercent* column by increasing the *metacriticScore* from the same row with 7 %."
   ]
  },
  {
   "cell_type": "code",
   "execution_count": 53,
   "metadata": {
    "tags": []
   },
   "outputs": [],
   "source": [
    "gamedata.loc[gamedata[\"steamRatingPercent\"].isnull(),'steamRatingPercent'] = gamedata[\"metacriticScore\"] * 1.07"
   ]
  },
  {
   "cell_type": "markdown",
   "metadata": {},
   "source": [
    "4 Group the data by *steamRatingText* column so that averages of the following columns will be calculated for each text value: *steamRatingPercent*, *metacriticScore*, *normalPrice* and *salePrice*. Do not show any other columns in the resulting DataFrame."
   ]
  },
  {
   "cell_type": "code",
   "execution_count": 54,
   "metadata": {},
   "outputs": [
    {
     "data": {
      "text/html": [
       "<div>\n",
       "<style scoped>\n",
       "    .dataframe tbody tr th:only-of-type {\n",
       "        vertical-align: middle;\n",
       "    }\n",
       "\n",
       "    .dataframe tbody tr th {\n",
       "        vertical-align: top;\n",
       "    }\n",
       "\n",
       "    .dataframe thead th {\n",
       "        text-align: right;\n",
       "    }\n",
       "</style>\n",
       "<table border=\"1\" class=\"dataframe\">\n",
       "  <thead>\n",
       "    <tr style=\"text-align: right;\">\n",
       "      <th></th>\n",
       "      <th>steamRatingPercent</th>\n",
       "      <th>metacriticScore</th>\n",
       "      <th>normalPrice</th>\n",
       "      <th>salePrice</th>\n",
       "    </tr>\n",
       "    <tr>\n",
       "      <th>steamRatingText</th>\n",
       "      <th></th>\n",
       "      <th></th>\n",
       "      <th></th>\n",
       "      <th></th>\n",
       "    </tr>\n",
       "  </thead>\n",
       "  <tbody>\n",
       "    <tr>\n",
       "      <th>Mostly Negative</th>\n",
       "      <td>43.575000</td>\n",
       "      <td>56.000000</td>\n",
       "      <td>36.490000</td>\n",
       "      <td>6.09</td>\n",
       "    </tr>\n",
       "    <tr>\n",
       "      <th>Mostly Positive</th>\n",
       "      <td>75.328000</td>\n",
       "      <td>70.400000</td>\n",
       "      <td>15.990000</td>\n",
       "      <td>3.14</td>\n",
       "    </tr>\n",
       "    <tr>\n",
       "      <th>Overwhelmingly Positive</th>\n",
       "      <td>96.500000</td>\n",
       "      <td>87.000000</td>\n",
       "      <td>24.990000</td>\n",
       "      <td>2.99</td>\n",
       "    </tr>\n",
       "    <tr>\n",
       "      <th>Very Positive</th>\n",
       "      <td>81.186667</td>\n",
       "      <td>75.333333</td>\n",
       "      <td>15.823333</td>\n",
       "      <td>2.49</td>\n",
       "    </tr>\n",
       "  </tbody>\n",
       "</table>\n",
       "</div>"
      ],
      "text/plain": [
       "                         steamRatingPercent  metacriticScore  normalPrice  \\\n",
       "steamRatingText                                                             \n",
       "Mostly Negative                   43.575000        56.000000    36.490000   \n",
       "Mostly Positive                   75.328000        70.400000    15.990000   \n",
       "Overwhelmingly Positive           96.500000        87.000000    24.990000   \n",
       "Very Positive                     81.186667        75.333333    15.823333   \n",
       "\n",
       "                         salePrice  \n",
       "steamRatingText                     \n",
       "Mostly Negative               6.09  \n",
       "Mostly Positive               3.14  \n",
       "Overwhelmingly Positive       2.99  \n",
       "Very Positive                 2.49  "
      ]
     },
     "execution_count": 54,
     "metadata": {},
     "output_type": "execute_result"
    }
   ],
   "source": [
    "gamedata = gamedata.groupby(\"steamRatingText\").agg({\"steamRatingPercent\" : \"mean\", \"metacriticScore\" : \"mean\", \"normalPrice\" : \"mean\", \"salePrice\" : \"mean\"})\n",
    "\n",
    "gamedata"
   ]
  },
  {
   "cell_type": "markdown",
   "metadata": {
    "tags": []
   },
   "source": [
    "5 Load the original game_data.json file content into a new DataFrame and then filter the data with the same manner as in previous task. Combine these two DataFrames together and change the column names of the original to contain text *ORIGINAL*. "
   ]
  },
  {
   "cell_type": "code",
   "execution_count": 59,
   "metadata": {
    "tags": []
   },
   "outputs": [
    {
     "data": {
      "text/html": [
       "<div>\n",
       "<style scoped>\n",
       "    .dataframe tbody tr th:only-of-type {\n",
       "        vertical-align: middle;\n",
       "    }\n",
       "\n",
       "    .dataframe tbody tr th {\n",
       "        vertical-align: top;\n",
       "    }\n",
       "\n",
       "    .dataframe thead th {\n",
       "        text-align: right;\n",
       "    }\n",
       "</style>\n",
       "<table border=\"1\" class=\"dataframe\">\n",
       "  <thead>\n",
       "    <tr style=\"text-align: right;\">\n",
       "      <th></th>\n",
       "      <th>steamRatingPercent_ORIGINAL</th>\n",
       "      <th>metacriticScore_ORIGINAL</th>\n",
       "      <th>normalPrice_ORIGINAL</th>\n",
       "      <th>salePrice_ORIGINAL</th>\n",
       "    </tr>\n",
       "    <tr>\n",
       "      <th>steamRatingText</th>\n",
       "      <th></th>\n",
       "      <th></th>\n",
       "      <th></th>\n",
       "      <th></th>\n",
       "    </tr>\n",
       "  </thead>\n",
       "  <tbody>\n",
       "    <tr>\n",
       "      <th>Mixed</th>\n",
       "      <td>59.857143</td>\n",
       "      <td>53.428571</td>\n",
       "      <td>10.704286</td>\n",
       "      <td>1.418571</td>\n",
       "    </tr>\n",
       "    <tr>\n",
       "      <th>Mostly Negative</th>\n",
       "      <td>37.000000</td>\n",
       "      <td>56.000000</td>\n",
       "      <td>36.490000</td>\n",
       "      <td>6.090000</td>\n",
       "    </tr>\n",
       "    <tr>\n",
       "      <th>Mostly Positive</th>\n",
       "      <td>74.750000</td>\n",
       "      <td>72.000000</td>\n",
       "      <td>19.990000</td>\n",
       "      <td>3.510833</td>\n",
       "    </tr>\n",
       "    <tr>\n",
       "      <th>Overwhelmingly Positive</th>\n",
       "      <td>96.250000</td>\n",
       "      <td>83.000000</td>\n",
       "      <td>14.740000</td>\n",
       "      <td>2.741250</td>\n",
       "    </tr>\n",
       "    <tr>\n",
       "      <th>Very Positive</th>\n",
       "      <td>87.500000</td>\n",
       "      <td>78.533333</td>\n",
       "      <td>19.606667</td>\n",
       "      <td>3.568333</td>\n",
       "    </tr>\n",
       "  </tbody>\n",
       "</table>\n",
       "</div>"
      ],
      "text/plain": [
       "                         steamRatingPercent_ORIGINAL  \\\n",
       "steamRatingText                                        \n",
       "Mixed                                      59.857143   \n",
       "Mostly Negative                            37.000000   \n",
       "Mostly Positive                            74.750000   \n",
       "Overwhelmingly Positive                    96.250000   \n",
       "Very Positive                              87.500000   \n",
       "\n",
       "                         metacriticScore_ORIGINAL  normalPrice_ORIGINAL  \\\n",
       "steamRatingText                                                           \n",
       "Mixed                                   53.428571             10.704286   \n",
       "Mostly Negative                         56.000000             36.490000   \n",
       "Mostly Positive                         72.000000             19.990000   \n",
       "Overwhelmingly Positive                 83.000000             14.740000   \n",
       "Very Positive                           78.533333             19.606667   \n",
       "\n",
       "                         salePrice_ORIGINAL  \n",
       "steamRatingText                              \n",
       "Mixed                              1.418571  \n",
       "Mostly Negative                    6.090000  \n",
       "Mostly Positive                    3.510833  \n",
       "Overwhelmingly Positive            2.741250  \n",
       "Very Positive                      3.568333  "
      ]
     },
     "execution_count": 59,
     "metadata": {},
     "output_type": "execute_result"
    }
   ],
   "source": [
    "original_gamedata = pd.read_json(\"data_files/gamedata.json\")\n",
    "\n",
    "original_gamedata = original_gamedata.groupby(\"steamRatingText\").agg({\"steamRatingPercent\" : \"mean\", \"metacriticScore\" : \"mean\", \"normalPrice\" : \"mean\", \"salePrice\" : \"mean\"})\n",
    "original_gamedata = original_gamedata.rename({\"steamRatingPercent\" : \"steamRatingPercent_ORIGINAL\", \"metacriticScore\" : \"metacriticScore_ORIGINAL\", \"normalPrice\" : \"normalPrice_ORIGINAL\", \"salePrice\" : \"salePrice_ORIGINAL\"}, axis=\"columns\")\n",
    "\n",
    "original_gamedata"
   ]
  },
  {
   "cell_type": "code",
   "execution_count": 60,
   "metadata": {
    "tags": []
   },
   "outputs": [
    {
     "data": {
      "text/html": [
       "<div>\n",
       "<style scoped>\n",
       "    .dataframe tbody tr th:only-of-type {\n",
       "        vertical-align: middle;\n",
       "    }\n",
       "\n",
       "    .dataframe tbody tr th {\n",
       "        vertical-align: top;\n",
       "    }\n",
       "\n",
       "    .dataframe thead th {\n",
       "        text-align: right;\n",
       "    }\n",
       "</style>\n",
       "<table border=\"1\" class=\"dataframe\">\n",
       "  <thead>\n",
       "    <tr style=\"text-align: right;\">\n",
       "      <th></th>\n",
       "      <th>steamRatingPercent_ORIGINAL</th>\n",
       "      <th>metacriticScore_ORIGINAL</th>\n",
       "      <th>normalPrice_ORIGINAL</th>\n",
       "      <th>salePrice_ORIGINAL</th>\n",
       "      <th>steamRatingPercent</th>\n",
       "      <th>metacriticScore</th>\n",
       "      <th>normalPrice</th>\n",
       "      <th>salePrice</th>\n",
       "    </tr>\n",
       "    <tr>\n",
       "      <th>steamRatingText</th>\n",
       "      <th></th>\n",
       "      <th></th>\n",
       "      <th></th>\n",
       "      <th></th>\n",
       "      <th></th>\n",
       "      <th></th>\n",
       "      <th></th>\n",
       "      <th></th>\n",
       "    </tr>\n",
       "  </thead>\n",
       "  <tbody>\n",
       "    <tr>\n",
       "      <th>Mixed</th>\n",
       "      <td>59.857143</td>\n",
       "      <td>53.428571</td>\n",
       "      <td>10.704286</td>\n",
       "      <td>1.418571</td>\n",
       "      <td>NaN</td>\n",
       "      <td>NaN</td>\n",
       "      <td>NaN</td>\n",
       "      <td>NaN</td>\n",
       "    </tr>\n",
       "    <tr>\n",
       "      <th>Mostly Negative</th>\n",
       "      <td>37.000000</td>\n",
       "      <td>56.000000</td>\n",
       "      <td>36.490000</td>\n",
       "      <td>6.090000</td>\n",
       "      <td>43.575000</td>\n",
       "      <td>56.000000</td>\n",
       "      <td>36.490000</td>\n",
       "      <td>6.09</td>\n",
       "    </tr>\n",
       "    <tr>\n",
       "      <th>Mostly Positive</th>\n",
       "      <td>74.750000</td>\n",
       "      <td>72.000000</td>\n",
       "      <td>19.990000</td>\n",
       "      <td>3.510833</td>\n",
       "      <td>75.328000</td>\n",
       "      <td>70.400000</td>\n",
       "      <td>15.990000</td>\n",
       "      <td>3.14</td>\n",
       "    </tr>\n",
       "    <tr>\n",
       "      <th>Overwhelmingly Positive</th>\n",
       "      <td>96.250000</td>\n",
       "      <td>83.000000</td>\n",
       "      <td>14.740000</td>\n",
       "      <td>2.741250</td>\n",
       "      <td>96.500000</td>\n",
       "      <td>87.000000</td>\n",
       "      <td>24.990000</td>\n",
       "      <td>2.99</td>\n",
       "    </tr>\n",
       "    <tr>\n",
       "      <th>Very Positive</th>\n",
       "      <td>87.500000</td>\n",
       "      <td>78.533333</td>\n",
       "      <td>19.606667</td>\n",
       "      <td>3.568333</td>\n",
       "      <td>81.186667</td>\n",
       "      <td>75.333333</td>\n",
       "      <td>15.823333</td>\n",
       "      <td>2.49</td>\n",
       "    </tr>\n",
       "  </tbody>\n",
       "</table>\n",
       "</div>"
      ],
      "text/plain": [
       "                         steamRatingPercent_ORIGINAL  \\\n",
       "steamRatingText                                        \n",
       "Mixed                                      59.857143   \n",
       "Mostly Negative                            37.000000   \n",
       "Mostly Positive                            74.750000   \n",
       "Overwhelmingly Positive                    96.250000   \n",
       "Very Positive                              87.500000   \n",
       "\n",
       "                         metacriticScore_ORIGINAL  normalPrice_ORIGINAL  \\\n",
       "steamRatingText                                                           \n",
       "Mixed                                   53.428571             10.704286   \n",
       "Mostly Negative                         56.000000             36.490000   \n",
       "Mostly Positive                         72.000000             19.990000   \n",
       "Overwhelmingly Positive                 83.000000             14.740000   \n",
       "Very Positive                           78.533333             19.606667   \n",
       "\n",
       "                         salePrice_ORIGINAL  steamRatingPercent  \\\n",
       "steamRatingText                                                   \n",
       "Mixed                              1.418571                 NaN   \n",
       "Mostly Negative                    6.090000           43.575000   \n",
       "Mostly Positive                    3.510833           75.328000   \n",
       "Overwhelmingly Positive            2.741250           96.500000   \n",
       "Very Positive                      3.568333           81.186667   \n",
       "\n",
       "                         metacriticScore  normalPrice  salePrice  \n",
       "steamRatingText                                                   \n",
       "Mixed                                NaN          NaN        NaN  \n",
       "Mostly Negative                56.000000    36.490000       6.09  \n",
       "Mostly Positive                70.400000    15.990000       3.14  \n",
       "Overwhelmingly Positive        87.000000    24.990000       2.99  \n",
       "Very Positive                  75.333333    15.823333       2.49  "
      ]
     },
     "execution_count": 60,
     "metadata": {},
     "output_type": "execute_result"
    }
   ],
   "source": [
    "dfs = gamedata,original_gamedata\n",
    "name = \"ORIGINAL \"\n",
    "\n",
    "joined_gamedata = pd.concat([original_gamedata, gamedata], axis=1)\n",
    "joined_gamedata"
   ]
  }
 ],
 "metadata": {
  "kernelspec": {
   "display_name": "Python 3",
   "language": "python",
   "name": "python3"
  },
  "language_info": {
   "codemirror_mode": {
    "name": "ipython",
    "version": 3
   },
   "file_extension": ".py",
   "mimetype": "text/x-python",
   "name": "python",
   "nbconvert_exporter": "python",
   "pygments_lexer": "ipython3",
   "version": "3.8.8"
  }
 },
 "nbformat": 4,
 "nbformat_minor": 4
}
