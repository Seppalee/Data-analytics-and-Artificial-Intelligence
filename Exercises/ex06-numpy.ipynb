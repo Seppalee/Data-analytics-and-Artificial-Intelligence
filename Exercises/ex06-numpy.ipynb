{
 "cells": [
  {
   "cell_type": "markdown",
   "metadata": {},
   "source": [
    "## Exercise 6 - Numpy"
   ]
  },
  {
   "cell_type": "markdown",
   "metadata": {},
   "source": [
    "1 Generate two NumPy arrays so that first array has integers from 10 to 40 (inclusive). Second array should have 30 integers from 220 to 250 (inclusive). Sum these arrays and present the result array."
   ]
  },
  {
   "cell_type": "code",
   "execution_count": 2,
   "metadata": {},
   "outputs": [],
   "source": [
    "import numpy as np"
   ]
  },
  {
   "cell_type": "code",
   "execution_count": 3,
   "metadata": {},
   "outputs": [
    {
     "name": "stdout",
     "output_type": "stream",
     "text": [
      "Added array: [230 232 234 236 238 240 242 244 246 248 250 252 254 256 258 260 262 264\n",
      " 266 268 270 272 274 276 278 280 282 284 286 288]\n"
     ]
    }
   ],
   "source": [
    "arr1 = np.arange(10,40)\n",
    "arr2 = np.arange(220,250)\n",
    "\n",
    "result_array = np.add(arr1, arr2)\n",
    "print(\"Added array:\", result_array)"
   ]
  },
  {
   "cell_type": "markdown",
   "metadata": {},
   "source": [
    "2 Generate two-dimensional array with 10 rows and 7 columns containing integers starting from 100."
   ]
  },
  {
   "cell_type": "code",
   "execution_count": 4,
   "metadata": {},
   "outputs": [
    {
     "data": {
      "text/plain": [
       "array([[100, 101, 102, 103, 104, 105, 106],\n",
       "       [107, 108, 109, 110, 111, 112, 113],\n",
       "       [114, 115, 116, 117, 118, 119, 120],\n",
       "       [121, 122, 123, 124, 125, 126, 127],\n",
       "       [128, 129, 130, 131, 132, 133, 134],\n",
       "       [135, 136, 137, 138, 139, 140, 141],\n",
       "       [142, 143, 144, 145, 146, 147, 148],\n",
       "       [149, 150, 151, 152, 153, 154, 155],\n",
       "       [156, 157, 158, 159, 160, 161, 162],\n",
       "       [163, 164, 165, 166, 167, 168, 169]])"
      ]
     },
     "execution_count": 4,
     "metadata": {},
     "output_type": "execute_result"
    }
   ],
   "source": [
    "n = 100 + 10 * 7\n",
    "\n",
    "new_arr = np.arange(100,n).reshape(10,7)\n",
    "new_arr"
   ]
  },
  {
   "cell_type": "markdown",
   "metadata": {
    "tags": []
   },
   "source": [
    "3 Generate three-dimensional array (3x3x3) with random floats."
   ]
  },
  {
   "cell_type": "code",
   "execution_count": 5,
   "metadata": {},
   "outputs": [
    {
     "data": {
      "text/plain": [
       "array([[[0.38103355, 0.86674568, 0.5272139 ],\n",
       "        [0.46732404, 0.94322805, 0.88639135],\n",
       "        [0.36180772, 0.64015266, 0.61082495]],\n",
       "\n",
       "       [[0.78418715, 0.92123187, 0.9672456 ],\n",
       "        [0.15063587, 0.0068579 , 0.68083348],\n",
       "        [0.07497425, 0.48038344, 0.88492713]],\n",
       "\n",
       "       [[0.14222754, 0.15482887, 0.60810343],\n",
       "        [0.39224004, 0.81804938, 0.57116741],\n",
       "        [0.67926766, 0.51456278, 0.02414989]]])"
      ]
     },
     "execution_count": 5,
     "metadata": {},
     "output_type": "execute_result"
    }
   ],
   "source": [
    "arr3 = np.random.rand(3,3,3)\n",
    "\n",
    "arr3"
   ]
  },
  {
   "cell_type": "markdown",
   "metadata": {},
   "source": [
    "4 Generate two one-dimensional arrays having integers between 1-50. First array should have even and second array should have odd numbers. Finally multiply each corresponding numbers from these two arrays for the result array."
   ]
  },
  {
   "cell_type": "code",
   "execution_count": 12,
   "metadata": {},
   "outputs": [
    {
     "data": {
      "text/plain": [
       "array([   2,   12,   30,   56,   90,  132,  182,  240,  306,  380,  462,\n",
       "        552,  650,  756,  870,  992, 1122, 1260, 1406, 1560, 1722, 1892,\n",
       "       2070, 2256, 2450])"
      ]
     },
     "execution_count": 12,
     "metadata": {},
     "output_type": "execute_result"
    }
   ],
   "source": [
    "arr4 = np.arange(1,50,2)\n",
    "arr5 = np.arange(2,51,2)\n",
    "\n",
    "multiply_arrays = arr4 * arr5\n",
    "\n",
    "multiply_arrays"
   ]
  },
  {
   "cell_type": "markdown",
   "metadata": {},
   "source": [
    "5 Generate two-dimensional array (40 rows, 5 columns) containing random integers between 1 and 1000. Filter the result array so that only numbers divisable with numbers 2 and 6 are presented."
   ]
  },
  {
   "cell_type": "code",
   "execution_count": 13,
   "metadata": {},
   "outputs": [
    {
     "data": {
      "text/plain": [
       "array([[602, 626, 255, 856, 246],\n",
       "       [773,  54, 945, 357, 153],\n",
       "       [757, 823, 474,  14, 102],\n",
       "       [903, 421, 813, 330, 170],\n",
       "       [644, 455,   0,  79, 230],\n",
       "       [895, 741, 146, 765, 800],\n",
       "       [393, 614, 764, 161, 113],\n",
       "       [914, 908, 746, 731, 920],\n",
       "       [309, 122, 705, 860,  97],\n",
       "       [763, 820, 213, 380, 813],\n",
       "       [492, 536, 127, 984, 620],\n",
       "       [178, 448, 229,  75, 760],\n",
       "       [894, 914, 920,   6, 444],\n",
       "       [410,  56, 619, 704, 130],\n",
       "       [ 23, 857, 224, 882, 809],\n",
       "       [612,  44, 859,  62, 921],\n",
       "       [715, 844, 569, 600, 421],\n",
       "       [531, 255, 147, 499, 326],\n",
       "       [433, 567,  17, 924, 414],\n",
       "       [385, 683, 437, 779, 601],\n",
       "       [441, 379, 959, 929, 647],\n",
       "       [154, 114, 656, 699, 207],\n",
       "       [168, 177,  64, 633,  43],\n",
       "       [477, 672, 309, 516,  25],\n",
       "       [373, 151, 270, 113, 693],\n",
       "       [ 29, 756, 944, 532, 973],\n",
       "       [812, 155, 705, 364, 363],\n",
       "       [568, 634,  38, 665, 592],\n",
       "       [389, 787, 435, 718, 445],\n",
       "       [756, 497, 479, 563, 440],\n",
       "       [286, 364, 802, 800, 565],\n",
       "       [560, 525, 588, 838,  78],\n",
       "       [114, 574, 354, 335, 204],\n",
       "       [713, 935, 413,  78, 413],\n",
       "       [302, 441, 246,  50, 315],\n",
       "       [723, 911,  29, 596, 910],\n",
       "       [976, 997, 856, 393, 901],\n",
       "       [815, 846, 401, 490, 837],\n",
       "       [491, 208, 257, 967, 649],\n",
       "       [863, 999, 366, 439, 138]])"
      ]
     },
     "execution_count": 13,
     "metadata": {},
     "output_type": "execute_result"
    }
   ],
   "source": [
    "arr6 = np.random.randint(1000, size=(40,5))\n",
    "\n",
    "arr6"
   ]
  }
 ],
 "metadata": {
  "kernelspec": {
   "display_name": "Python 3",
   "language": "python",
   "name": "python3"
  },
  "language_info": {
   "codemirror_mode": {
    "name": "ipython",
    "version": 3
   },
   "file_extension": ".py",
   "mimetype": "text/x-python",
   "name": "python",
   "nbconvert_exporter": "python",
   "pygments_lexer": "ipython3",
   "version": "3.8.8"
  }
 },
 "nbformat": 4,
 "nbformat_minor": 4
}
