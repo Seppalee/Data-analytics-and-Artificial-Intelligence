{
 "cells": [
  {
   "cell_type": "markdown",
   "metadata": {},
   "source": [
    "## Exercise 1 - Python fundamentals Part 1"
   ]
  },
  {
   "cell_type": "markdown",
   "metadata": {},
   "source": [
    "1 Sentence is presented in the code cell below. Create a variable which has first ten and last ten characters concatenated."
   ]
  },
  {
   "cell_type": "code",
   "execution_count": 7,
   "metadata": {},
   "outputs": [
    {
     "name": "stdout",
     "output_type": "stream",
     "text": [
      "Gary must he target.\n"
     ]
    }
   ],
   "source": [
    "# Sentence\n",
    "s = \"Gary must look towards the future in order to gather enough information from the target.\"\n",
    "\n",
    "concatenate = s[:10] + s[-10:]\n",
    "print(concatenate)"
   ]
  },
  {
   "cell_type": "markdown",
   "metadata": {},
   "source": [
    "2 Count the number of white spaces between words from the previous sentence and divide that number with the length of the sentence."
   ]
  },
  {
   "cell_type": "code",
   "execution_count": 9,
   "metadata": {},
   "outputs": [
    {
     "name": "stdout",
     "output_type": "stream",
     "text": [
      "0.1590909090909091\n"
     ]
    }
   ],
   "source": [
    "# Your answer here\n",
    "calculation = s.count(\" \") / len(s)\n",
    "print(calculation)"
   ]
  },
  {
   "cell_type": "markdown",
   "metadata": {},
   "source": [
    "3 Add the following cars to the existing list of dictionary objects:\n",
    "    - Red Toyota Corolla (1985)\n",
    "    - Lightblue Ford Mustang (1965)\n",
    "    - Black Pontiac Firebird (1987)"
   ]
  },
  {
   "cell_type": "code",
   "execution_count": 14,
   "metadata": {},
   "outputs": [
    {
     "name": "stdout",
     "output_type": "stream",
     "text": [
      "[{'make': 'Ford', 'model': 'escort', 'color': 'green', 'year': 1994}, {'make': 'Lexus', 'model': 'IS250', 'color': 'beige', 'year': 2013}, {'make': 'Volvo', 'model': 'S40', 'color': 'blue', 'year': 1998}, {'make': 'Toyota', 'model': 'Corolla', 'color': 'red', 'year': 1984}, {'make': 'Ford', 'model': 'Mustang', 'color': 'lightblue', 'year': 1987}]\n"
     ]
    }
   ],
   "source": [
    "# Cars\n",
    "cars = [{\"make\":\"Ford\",\"model\":\"escort\",\"color\":\"green\",\"year\":1994},{\"make\":\"Lexus\",\"model\":\"IS250\",\"color\":\"beige\",\"year\":2013},{\"make\":\"Volvo\",\"model\":\"S40\",\"color\":\"blue\",\"year\":1998}]\n",
    "\n",
    "car1 = {\n",
    "    \"make\":\"Toyota\",\n",
    "    \"model\":\"Corolla\",\n",
    "    \"color\":\"red\",\n",
    "    \"year\":1984\n",
    "}\n",
    "\n",
    "car2 = {\n",
    "    \"make\":\"Ford\",\n",
    "    \"model\":\"Mustang\",\n",
    "    \"color\":\"lightblue\",\n",
    "    \"year\":1987\n",
    "}\n",
    "\n",
    "cars.append(dict(car1))\n",
    "cars.append(dict(car2))\n",
    "\n",
    "print(cars)"
   ]
  },
  {
   "cell_type": "markdown",
   "metadata": {},
   "source": [
    "4 Convert the sentence presented below to list using commas (,) as separators. Then create a new list which contains only the last three items from the list."
   ]
  },
  {
   "cell_type": "code",
   "execution_count": 4,
   "metadata": {},
   "outputs": [
    {
     "name": "stdout",
     "output_type": "stream",
     "text": [
      "['Occaecat', 'short', 'ribs', 'incididunt', 'laboris.', 'Bresaola,', 'brisket', 'ex,', 'landjaeger', 'ad,', 'boudin', 'pariatur', 'frankfurter', 'eu', 'flank.', 'Enim', 'tail', 'short', 'ribs,', 'shoulder', 'duis', 'minim', 'excepteur,', 'deserunt', 'lorem', 'porchetta.', 'Dolor', 'chicken', 'spare', 'ribs,', 'id', 'in,', 'ball,', 'tip,', 'hamburger', 'labore', 'venison', 'consectetur', 'cupidatat.']\n",
      "['venison', 'consectetur', 'cupidatat.']\n"
     ]
    }
   ],
   "source": [
    "# Sentence\n",
    "s = \"Occaecat short ribs incididunt laboris. Bresaola, brisket ex, landjaeger ad, boudin pariatur frankfurter eu flank. Enim tail short ribs, shoulder duis minim excepteur, deserunt lorem porchetta. Dolor chicken spare ribs, id in, ball, tip, hamburger labore venison consectetur cupidatat.\"\n",
    "\n",
    "def stringToList(string):\n",
    "    listRes = list(string.split(\" \"))\n",
    "    return listRes\n",
    "\n",
    "print(stringToList(s))\n",
    "\n",
    "last_three = stringToList(s)[-3:]\n",
    "\n",
    "print(last_three)"
   ]
  },
  {
   "cell_type": "markdown",
   "metadata": {},
   "source": [
    "5 Below is a list containing words. Sort the words in the first half of the list by length in ascending order and words in the last half of the list so that words will be sorted alphabetically in descending order. Combine these list into one."
   ]
  },
  {
   "cell_type": "code",
   "execution_count": 12,
   "metadata": {},
   "outputs": [
    {
     "name": "stdout",
     "output_type": "stream",
     "text": [
      "['pass', 'staff', 'north', 'outside', 'offline', 'leftover', 'brainstorming', 'bandwidth', 'fruit', 'globalize', 'journey', 'outsourcing', 'productive', 'zero']\n"
     ]
    }
   ],
   "source": [
    "# Word list\n",
    "word_list = [\"brainstorming\",\"staff\",\"north\",\"outside\",\"pass\",\"leftover\",\"offline\",\"journey\",\"globalize\",\"zero\",\"bandwidth\",\"outsourcing\",\"fruit\",\"productive\"]\n",
    "\n",
    "new_list1 = word_list[:len(word_list)//2]\n",
    "new_list2 = word_list[len(word_list)//2:]\n",
    "\n",
    "new_list1.sort(key=lambda s: len(s))\n",
    "new_list2.sort()\n",
    "\n",
    "list_combined = new_list1 + new_list2 \n",
    "\n",
    "print(list_combined)"
   ]
  },
  {
   "cell_type": "code",
   "execution_count": null,
   "metadata": {},
   "outputs": [],
   "source": []
  }
 ],
 "metadata": {
  "kernelspec": {
   "display_name": "Python 3",
   "language": "python",
   "name": "python3"
  },
  "language_info": {
   "codemirror_mode": {
    "name": "ipython",
    "version": 3
   },
   "file_extension": ".py",
   "mimetype": "text/x-python",
   "name": "python",
   "nbconvert_exporter": "python",
   "pygments_lexer": "ipython3",
   "version": "3.8.8"
  }
 },
 "nbformat": 4,
 "nbformat_minor": 4
}
