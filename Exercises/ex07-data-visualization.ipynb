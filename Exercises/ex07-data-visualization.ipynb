{
 "cells": [
  {
   "cell_type": "markdown",
   "metadata": {},
   "source": [
    "## Exercise 7 - Data visualization\r\n",
    "- Different data sources will be utilized in this exercise.\r\n",
    "- **Important**: Remember to adjust the size of each visualized graph using figsize parameter for plot method for better viewing experience!"
   ]
  },
  {
   "cell_type": "markdown",
   "metadata": {},
   "source": [
    "1 Read the earthquakes.csv file and save its content into a variable. Then use bar chart to visualize magnitude values being 8.2 or over so that date values will be presented in x-axle and magnitude in y-axle."
   ]
  },
  {
   "cell_type": "markdown",
   "metadata": {},
   "source": [
    "2 Filter earthquake data so that all occurrances between time values 10:00 - 12:00 will be visualized with line chart. Group this data so that the average (mean) depth values will be presented for each source."
   ]
  },
  {
   "cell_type": "markdown",
   "metadata": {},
   "source": [
    "3 Read the gamedata.json file to a new variable. Visualize the data with pie chart so that share count will be counted for each Steam rating (in other words how many percentage out of all games have received the rating of *Very Positive*)."
   ]
  },
  {
   "cell_type": "markdown",
   "metadata": {},
   "source": [
    "4 Use the same game_data.json as above and create a scatter plot where you compare the relationships for metacriticScore and salePrice."
   ]
  },
  {
   "cell_type": "markdown",
   "metadata": {},
   "source": [
    "5 Use earthquake data you read earlier and create a scatter plot for magnitude values using Longitude and Latitude values for x- and y-axles correspondingly. In addition, use colormap for magnitude values."
   ]
  }
 ],
 "metadata": {
  "kernelspec": {
   "display_name": "Python 3",
   "language": "python",
   "name": "python3"
  },
  "language_info": {
   "codemirror_mode": {
    "name": "ipython",
    "version": 3
   },
   "file_extension": ".py",
   "mimetype": "text/x-python",
   "name": "python",
   "nbconvert_exporter": "python",
   "pygments_lexer": "ipython3",
   "version": "3.8.8"
  }
 },
 "nbformat": 4,
 "nbformat_minor": 4
}
