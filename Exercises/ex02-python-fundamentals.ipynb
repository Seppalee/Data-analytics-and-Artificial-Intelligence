{
 "cells": [
  {
   "cell_type": "markdown",
   "metadata": {},
   "source": [
    "## Exercise 2 - Python fundamentals Part 2"
   ]
  },
  {
   "cell_type": "markdown",
   "metadata": {},
   "source": [
    "1 Create a function which will go through a list called **vars** and save the type of each variable to a new list. The starting information is given in the next cell."
   ]
  },
  {
   "cell_type": "code",
   "execution_count": 3,
   "metadata": {},
   "outputs": [
    {
     "name": "stdout",
     "output_type": "stream",
     "text": [
      "[<class 'int'>, <class 'str'>, <class 'int'>, <class 'float'>, <class 'list'>, <class 'bool'>, <class 'tuple'>]\n"
     ]
    }
   ],
   "source": [
    "# Your function here\n",
    "def variableType(lst):\n",
    "    new_list = []\n",
    "    for i in lst:\n",
    "        new_list.append(type(i))\n",
    "    print(new_list)\n",
    "\n",
    "# Test\n",
    "vars = [100,\"Car\",25000,10.0,[\"a\",\"b\",\"c\"],True,(\"a\",\"b\")]\n",
    "\n",
    "variableType(vars)"
   ]
  },
  {
   "cell_type": "markdown",
   "metadata": {},
   "source": [
    "2 You are given two lists **l1** and **l2**. Create a function which will take two lists as input and print values that are present in both lists."
   ]
  },
  {
   "cell_type": "code",
   "execution_count": 4,
   "metadata": {},
   "outputs": [
    {
     "data": {
      "text/plain": [
       "[1, 5, 9, 7]"
      ]
     },
     "execution_count": 4,
     "metadata": {},
     "output_type": "execute_result"
    }
   ],
   "source": [
    "# Your function here\n",
    "def returnMatches(a,b):\n",
    "    return(list(set(a) & set(b)))\n",
    "\n",
    "# Test\n",
    "l1 = [1,4,5,7,8,9,10]\n",
    "l2 = [1,2,3,5,6,7,9]\n",
    "\n",
    "returnMatches(l1,l2)"
   ]
  },
  {
   "cell_type": "markdown",
   "metadata": {},
   "source": [
    "3 Below is a list containing words. Create a function which returns only words with length of 4 or less."
   ]
  },
  {
   "cell_type": "code",
   "execution_count": 13,
   "metadata": {},
   "outputs": [
    {
     "name": "stdout",
     "output_type": "stream",
     "text": [
      "['code', '', 'red', 'mill', 'are']\n"
     ]
    }
   ],
   "source": [
    "# Your function here\n",
    "def lengthCheck(lst):\n",
    "    new_list = []\n",
    "    for i in lst:\n",
    "        if len(i) <= 4:\n",
    "            new_list.append(i)\n",
    "        else:\n",
    "            continue\n",
    "    print(new_list)\n",
    "                \n",
    "\n",
    "# Test\n",
    "words = [\"bootcamp\",\"yellow\",\"development\",\"full-time\",\"code\",\"fresh\",\"\",\"static\",\"red\",\"advance\",\"mill\",\"story\",\"are\"]\n",
    "\n",
    "lengthCheck(words)"
   ]
  },
  {
   "cell_type": "markdown",
   "metadata": {},
   "source": [
    "4 Create a function which takes does the following:\n",
    "    - Take list of dictionaries containing information of data loggers presented below as an input\n",
    "    - Iterate through the dictionary and containing the count for total amount of each sensor type. Example: {\"temp\":2,\"hum\":5,\"light\":2,\"noise\":4}.\n",
    "    - Return this dictionary"
   ]
  },
  {
   "cell_type": "code",
   "execution_count": 15,
   "metadata": {},
   "outputs": [
    {
     "data": {
      "text/plain": [
       "{'temp': 5, 'hum': 5, 'noise': 2, 'light': 3}"
      ]
     },
     "execution_count": 15,
     "metadata": {},
     "output_type": "execute_result"
    }
   ],
   "source": [
    "# Data loggers\n",
    "sdata = [{\"ID\":\"logger-1\",\"sensors\":[\"temp\",\"hum\",\"noise\"]},{\"ID\":\"logger-2\",\"sensors\":[\"temp\",\"hum\"]},{\"ID\":\"logger-3\",\"sensors\":[\"temp\",\"hum\",\"light\"]},{\"ID\":\"logger-4\",\"sensors\":[\"temp\",\"hum\",\"light\"]},{\"ID\":\"logger-5\",\"sensors\":[\"temp\",\"hum\",\"noise\",\"light\"]}]\n",
    "\n",
    "def word_count(lst):\n",
    "    counts = dict()\n",
    "    for i in lst:\n",
    "        for sensor in i[\"sensors\"]:\n",
    "            if sensor in counts:\n",
    "                counts[sensor] += 1\n",
    "            else:\n",
    "                counts[sensor] = 1\n",
    "    return counts\n",
    "\n",
    "word_count(sdata)"
   ]
  },
  {
   "cell_type": "markdown",
   "metadata": {},
   "source": [
    "5 Create a class for computer user which contains the following information:\n",
    "- Attributes\n",
    "    - username\n",
    "    - password (in plaintext)\n",
    "    - account status (active, locked)\n",
    "    - usertype (guest,regular,admin)\n",
    "- Methods\n",
    "    - check account status\n",
    "    - change account status\n",
    "    - change password (must be at least 8 characters long or error is shown)\n",
    "\n",
    "Test the operation of your class! Password check does not have to be done when password is initially set for the object."
   ]
  },
  {
   "cell_type": "code",
   "execution_count": 9,
   "metadata": {},
   "outputs": [
    {
     "name": "stdout",
     "output_type": "stream",
     "text": [
      "<About user: Name: LeeviS Password: nakkimakkara Status: active Type: admin>\n",
      "The account LeeviS is active.\n",
      "The password must be at least 8 characters long.\n",
      "Password changed successfully!\n",
      "<About user: Name: LeeviS Password: Jeppistajee Status: active Type: admin>\n"
     ]
    }
   ],
   "source": [
    "class User:\n",
    "    def __init__(self,username,password,accountstatus,usertype):\n",
    "        self.username = username\n",
    "        self.password = password\n",
    "        self.accountstatus = accountstatus\n",
    "        self.usertype = usertype\n",
    "    \n",
    "    def __repr__(self):\n",
    "        return \"<About user: Name: %s Password: %s Status: %s Type: %s>\" % (self.username, self.password, self.accountstatus, self.usertype)\n",
    "    \n",
    "    def change_status(self,new_status):\n",
    "        self.accountstatus = new_status\n",
    "    \n",
    "    def check_status(self):\n",
    "        print(\"The account \" + self.username + \" is \" + self.accountstatus + \".\")\n",
    "    \n",
    "    def change_password(self,new_password):\n",
    "        if len(new_password) >= 8:\n",
    "            self.password = new_password\n",
    "            print(\"Password changed successfully!\")\n",
    "        else:\n",
    "            print(\"The password must be at least 8 characters long.\")\n",
    "    \n",
    "User1 = User(\"LeeviS\",\"nakkimakkara\",\"active\",\"admin\")\n",
    "\n",
    "print(User1)\n",
    "User1.check_status()\n",
    "User1.change_password(\"Juu\")\n",
    "User1.change_password(\"Jeppistajee\")\n",
    "print(User1)"
   ]
  },
  {
   "cell_type": "code",
   "execution_count": null,
   "metadata": {},
   "outputs": [],
   "source": []
  }
 ],
 "metadata": {
  "kernelspec": {
   "display_name": "Python 3",
   "language": "python",
   "name": "python3"
  },
  "language_info": {
   "codemirror_mode": {
    "name": "ipython",
    "version": 3
   },
   "file_extension": ".py",
   "mimetype": "text/x-python",
   "name": "python",
   "nbconvert_exporter": "python",
   "pygments_lexer": "ipython3",
   "version": "3.8.8"
  }
 },
 "nbformat": 4,
 "nbformat_minor": 4
}
